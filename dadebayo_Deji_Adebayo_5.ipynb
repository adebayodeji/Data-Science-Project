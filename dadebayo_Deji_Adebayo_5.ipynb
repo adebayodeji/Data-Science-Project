{
 "cells": [
  {
   "cell_type": "markdown",
   "id": "106f9695",
   "metadata": {},
   "source": [
    "# Imported Libraries"
   ]
  },
  {
   "cell_type": "code",
   "execution_count": 1,
   "id": "28789f6f",
   "metadata": {},
   "outputs": [],
   "source": [
    "import math                         \n",
    "import numpy as np                  \n",
    "import pandas as pd               \n",
    "import seaborn as sns              \n",
    "import matplotlib.pyplot as plt   \n",
    "%matplotlib inline                 \n",
    "sns.set_theme(style = \"darkgrid\")\n",
    "from sklearn.linear_model import LinearRegression\n",
    "from scipy.stats import linregress\n",
    "import statsmodels.api as sm\n",
    "import quandl\n",
    "import warnings\n",
    "warnings.filterwarnings('ignore')\n",
    "import datetime as dt\n",
    "from prettytable import PrettyTable\n",
    "from sklearn.linear_model import LogisticRegression\n",
    "from sklearn.metrics import mean_absolute_error\n",
    "from sklearn.metrics import confusion_matrix\n"
   ]
  },
  {
   "cell_type": "markdown",
   "id": "426aa6f0",
   "metadata": {},
   "source": [
    "# Question 3"
   ]
  },
  {
   "cell_type": "code",
   "execution_count": null,
   "id": "593e662c",
   "metadata": {},
   "outputs": [],
   "source": []
  },
  {
   "cell_type": "markdown",
   "id": "7ed7a3ff",
   "metadata": {},
   "source": [
    "# Question 4"
   ]
  },
  {
   "cell_type": "code",
   "execution_count": 2,
   "id": "94e89ac8",
   "metadata": {},
   "outputs": [
    {
     "name": "stdout",
     "output_type": "stream",
     "text": [
      "0.3819709702062643, is the Probability of survival for a passenger on the titanic\n"
     ]
    }
   ],
   "source": [
    "#Load Titanic Data into a DataFrane\n",
    "titanicDataframe = pd.read_csv(\"titanic3.csv\")\n",
    "\n",
    "#Get the mean of the  age column\n",
    "getMean = titanicDataframe[\"age\"].mean()\n",
    "\n",
    "#Fill the mean Nan values with the mean\n",
    "titanicDataframe[\"age\"] = titanicDataframe[\"age\"].fillna(getMean)\n",
    "\n",
    "#Calculating the probability of Survival\n",
    "#get the length of dataframe\n",
    "titanicDataframeLength = len(titanicDataframe)\n",
    "\n",
    "#select Survival into a dataframe\n",
    "survivalDataFrame = titanicDataframe[titanicDataframe[\"survived\"]==1]\n",
    "\n",
    "#Get length of survival DataFrame\n",
    "survivalDataFrameLength = len(survivalDataFrame)\n",
    "\n",
    "calcProbSurvival = (survivalDataFrameLength)/(titanicDataframeLength)\n",
    "\n",
    "print(f\"{calcProbSurvival}, is the Probability of survival for a passenger on the titanic\")\n",
    "\n",
    "\n"
   ]
  },
  {
   "cell_type": "code",
   "execution_count": 3,
   "id": "63ebeb06",
   "metadata": {},
   "outputs": [
    {
     "name": "stdout",
     "output_type": "stream",
     "text": [
      "0.6191950464396285, Is the probability of survival of passenger when class = 1\n",
      "0.4296028880866426, Is the probability of survival of passenger when Class = 2\n",
      "0.2552891396332863, Is the Probability of survival of passenger when Class = 3\n"
     ]
    }
   ],
   "source": [
    "####################################### Number of passenger when class = 1 that survived###################\n",
    "\n",
    "#Provide a table giving survival probabilities broken down by passenger class, gender, and age.\n",
    "pclassDataFrame = len(titanicDataframe[(titanicDataframe[\"survived\"] == 1) & (titanicDataframe[\"pclass\"] == 1 )])\n",
    "\n",
    "totalpClassOne = len(titanicDataframe[titanicDataframe[\"pclass\"]==1])\n",
    "\n",
    "#Probability of titanic passenger when class = 1 survival\n",
    "\n",
    "calcProbSurvivalpClassOne =  (pclassDataFrame) / (totalpClassOne)\n",
    "\n",
    "print(f\"{calcProbSurvivalpClassOne}, Is the probability of survival of passenger when class = 1\")\n",
    "\n",
    "###############################when pClass 2 ########################################\n",
    "\n",
    "pClassWithTwoSurvival = len(titanicDataframe[(titanicDataframe[\"survived\"] == 1) & (titanicDataframe[\"pclass\"] == 2)])\n",
    "\n",
    "pClassWithvalTwo = len(titanicDataframe[titanicDataframe[\"pclass\"] == 2])\n",
    "\n",
    "calcProbSurvivalWithTwo = (pClassWithTwoSurvival) / (pClassWithvalTwo)\n",
    "\n",
    "print(f\"{calcProbSurvivalWithTwo}, Is the probability of survival of passenger when Class = 2\")\n",
    "\n",
    "######################################################pClass 3########################\n",
    "\n",
    "#Probability of survival of passenger class 3\n",
    "pClassWithValThree = len(titanicDataframe[(titanicDataframe[\"survived\"] == 1) & (titanicDataframe[\"pclass\"] == 3 )])\n",
    "\n",
    "pClassWithvalThree = len(titanicDataframe[titanicDataframe[\"pclass\"] == 3])\n",
    "\n",
    "calcProbSurvivalWithThree = (pClassWithValThree)/ (pClassWithvalThree)\n",
    "\n",
    "print(f\"{calcProbSurvivalWithThree}, Is the Probability of survival of passenger when Class = 3\")\n"
   ]
  },
  {
   "cell_type": "code",
   "execution_count": 4,
   "id": "87a59d85",
   "metadata": {},
   "outputs": [
    {
     "name": "stdout",
     "output_type": "stream",
     "text": [
      "0.19098457888493475, Is the Probability of survival of passenger that are male\n",
      "0.7274678111587983, Is the Probability of survival of passenger that are female\n"
     ]
    }
   ],
   "source": [
    "#Probability of survival of male gender\n",
    "survivedMaleDF = len(titanicDataframe[(titanicDataframe[\"survived\"] == 1) & (titanicDataframe[\"sex\"] == \"male\" )])\n",
    "\n",
    "numOfMale = len(titanicDataframe[titanicDataframe[\"sex\"] == \"male\"])\n",
    "\n",
    "calcProbSurvivedMale =  (survivedMaleDF) / numOfMale\n",
    "\n",
    "print(f\"{calcProbSurvivedMale}, Is the Probability of survival of passenger that are male\")\n",
    "\n",
    "################################################Survived Female#################\n",
    "\n",
    "#Probability of survival of female gender\n",
    "survivedFemaleDF = len(titanicDataframe[(titanicDataframe[\"survived\"] == 1) & (titanicDataframe[\"sex\"] == \"female\" )])\n",
    "\n",
    "numOfFemale = len(titanicDataframe[titanicDataframe[\"sex\"] == \"female\"])\n",
    "calcProbSurvivedFemale =  (survivedFemaleDF) / numOfFemale\n",
    "\n",
    "print(f\"{calcProbSurvivedFemale}, Is the Probability of survival of passenger that are female\")"
   ]
  },
  {
   "cell_type": "code",
   "execution_count": 5,
   "id": "ada8b6e3",
   "metadata": {},
   "outputs": [],
   "source": [
    "# Using the assumptions below:\n",
    "# Kids range (0 - 10)\n",
    "#Adolescent range (11 - 18)\n",
    "#Youth range (19 - 40)\n",
    "#Adult range (41 - 60), \n",
    "#Old range (61 - 100)\n",
    "\n",
    "titanicDataframe[\"AgeGroup\"] = pd.cut(titanicDataframe[\"age\"], bins=[-1,10,18,40,60,100], labels=[\"kid\", \"Adolescent\",\"Youth\", \"Adult\", \"Old\"])\n"
   ]
  },
  {
   "cell_type": "code",
   "execution_count": 6,
   "id": "eab1c791",
   "metadata": {},
   "outputs": [
    {
     "name": "stdout",
     "output_type": "stream",
     "text": [
      "0.5813953488372093, Is the Probability of survival of passenger that are kids\n",
      "0.4205607476635514, Is the Probability of survival of passenger that are Adolescent\n",
      "0.3543307086614173, Is the Probability of survival of passenger that are Youth\n",
      "0.422680412371134, Is the Probability of survival of passenger that are Adult\n",
      "0.24242424242424243, Is the Probability of survival of passenger that are Old\n"
     ]
    }
   ],
   "source": [
    "#Probability of  kids that survived\n",
    "kidDataFrameLen = len(titanicDataframe[(titanicDataframe[\"survived\"] == 1) & (titanicDataframe[\"AgeGroup\"] == \"kid\" )])\n",
    "\n",
    "# Number of kids\n",
    "getTotalKid = len(titanicDataframe[titanicDataframe[\"AgeGroup\"] == \"kid\"])\n",
    "\n",
    "# probability of titanic passenger kids  survival \n",
    "\n",
    "calcProbOfKidSurvival = (kidDataFrameLen) / (getTotalKid)\n",
    "\n",
    "print(f\"{calcProbOfKidSurvival}, Is the Probability of survival of passenger that are kids\")\n",
    "\n",
    "############################ Adolescent Survived #####################\n",
    "\n",
    "AdolescentDataFrameLen = len(titanicDataframe[(titanicDataframe[\"survived\"] == 1) & (titanicDataframe[\"AgeGroup\"] == \"Adolescent\" )])\n",
    "\n",
    "#Number of children\n",
    "getTotalAdolescent = len(titanicDataframe[titanicDataframe[\"AgeGroup\"] == \"Adolescent\"])\n",
    "\n",
    "# probability of titanic passenger children survival \n",
    "calcProbOfAdolescentSurvival = (AdolescentDataFrameLen) / (getTotalAdolescent)\n",
    "\n",
    "print(f\"{calcProbOfAdolescentSurvival}, Is the Probability of survival of passenger that are Adolescent\")\n",
    "\n",
    "\n",
    "####################### Prob of Youth Survived#################################\n",
    "\n",
    "YouthDataFrameLen = len(titanicDataframe[(titanicDataframe[\"survived\"] == 1) & (titanicDataframe[\"AgeGroup\"] == \"Youth\" )])\n",
    "\n",
    "getTotalYouth = len(titanicDataframe[titanicDataframe[\"AgeGroup\"] == \"Youth\"])\n",
    "\n",
    "#probability of titanic passenger children survival \n",
    "\n",
    "calcProbOfYouthSurvival = (YouthDataFrameLen) / (getTotalYouth)\n",
    "\n",
    "print(f\"{calcProbOfYouthSurvival}, Is the Probability of survival of passenger that are Youth\")\n",
    "\n",
    "################### Prob of Adult ###############\n",
    "\n",
    "AdultDataFrameLen = len(titanicDataframe[(titanicDataframe[\"survived\"] == 1) & (titanicDataframe[\"AgeGroup\"] == \"Adult\" )])\n",
    "\n",
    "getTotalAdult = len(titanicDataframe[titanicDataframe[\"AgeGroup\"] == \"Adult\"])\n",
    "\n",
    "# probability of titanic passenger children survival \n",
    "\n",
    "calcProbOfAdultSurvival = (AdultDataFrameLen) / (getTotalAdult)\n",
    "\n",
    "print(f\"{calcProbOfAdultSurvival}, Is the Probability of survival of passenger that are Adult\")\n",
    "\n",
    "############## Prob of Old ##############\n",
    "\n",
    "\n",
    "OldDataFrameLen = len(titanicDataframe[(titanicDataframe[\"survived\"] == 1) & (titanicDataframe[\"AgeGroup\"] == \"Old\" )])\n",
    "\n",
    "getTotalOld = len(titanicDataframe[titanicDataframe[\"AgeGroup\"] == \"Old\"])\n",
    "\n",
    "# probability of titanic passenger children survival \n",
    "\n",
    "calcProbOfOldSurvival = (OldDataFrameLen) / (getTotalOld)\n",
    "\n",
    "print(f\"{calcProbOfOldSurvival}, Is the Probability of survival of passenger that are Old\")\n",
    "\n"
   ]
  },
  {
   "cell_type": "code",
   "execution_count": 7,
   "id": "e6d25eda",
   "metadata": {},
   "outputs": [
    {
     "name": "stdout",
     "output_type": "stream",
     "text": [
      "+---------------------------+-------------------------+\n",
      "|     Passenger-Classes     | Probability of Survival |\n",
      "+---------------------------+-------------------------+\n",
      "| Passenger when Class is 1 |    0.6191950464396285   |\n",
      "| Passenger when Class is 2 |    0.4296028880866426   |\n",
      "| Passenger when Class is 3 |    0.2552891396332863   |\n",
      "+---------------------------+-------------------------+\n",
      "+---------+-------------------------+\n",
      "|   Sex   | Probability of Survival |\n",
      "+---------+-------------------------+\n",
      "|  Male   |   0.19098457888493475   |\n",
      "| Female  |    0.7274678111587983   |\n",
      "+---------+-------------------------+\n",
      "+------------+-------------------------+\n",
      "|    Age     | Probability of Survival |\n",
      "+------------+-------------------------+\n",
      "|    Kids    |    0.5813953488372093   |\n",
      "| Adolescent |    0.4205607476635514   |\n",
      "|   Youth    |    0.3543307086614173   |\n",
      "|   Adult    |    0.422680412371134    |\n",
      "|    Old     |   0.24242424242424243   |\n",
      "+------------+-------------------------+\n"
     ]
    }
   ],
   "source": [
    "#Table showing Probability Breakdown for Passenger Classes\n",
    "independentVariable= PrettyTable()\n",
    "independentVariable.field_names = [\"Passenger-Classes\", \"Probability of Survival\"]\n",
    "independentVariable.add_row([\"Passenger when Class is 1\", calcProbSurvivalpClassOne])\n",
    "independentVariable.add_row([\"Passenger when Class is 2\", calcProbSurvivalWithTwo])\n",
    "independentVariable.add_row([\"Passenger when Class is 3\", calcProbSurvivalWithThree])\n",
    "\n",
    "print(f\"{independentVariable}\")\n",
    "\n",
    "\n",
    "################################Table for Gender########################\n",
    "#Table showing the probability breakdown for Gender\n",
    "dependentVariable = PrettyTable()\n",
    "dependentVariable.field_names = [\"Sex\", \"Probability of Survival\"]\n",
    "dependentVariable.add_row([\"Male \", calcProbSurvivedMale])\n",
    "dependentVariable.add_row([\"Female \", calcProbSurvivedFemale])\n",
    "print(f\"{dependentVariable}\")\n",
    "\n",
    "################################Table for Age#########################\n",
    "\n",
    "ageGroups= PrettyTable()\n",
    "ageGroups.field_names = [\"Age\", \"Probability of Survival\"]\n",
    "ageGroups.add_row([\"Kids\", calcProbOfKidSurvival])\n",
    "ageGroups.add_row([\"Adolescent\", calcProbOfAdolescentSurvival])\n",
    "ageGroups.add_row([\"Youth \", calcProbOfYouthSurvival])\n",
    "ageGroups.add_row([\"Adult\", calcProbOfAdultSurvival])\n",
    "ageGroups.add_row([\"Old\", calcProbOfOldSurvival])\n",
    "\n",
    "print(f\"{ageGroups}\")"
   ]
  },
  {
   "cell_type": "code",
   "execution_count": 8,
   "id": "325853fc",
   "metadata": {},
   "outputs": [
    {
     "name": "stdout",
     "output_type": "stream",
     "text": [
      "Intercept =  [4.27910487]\n",
      "Correlation Coefficient =  [[-1.04765242 -2.44091949 -0.03157191]]\n",
      "Accuracy =  0.7853323147440795\n",
      "Predict Value =  [1 1 1 ... 0 0 0]\n",
      "Confusion Matrix [[686 158]\n",
      " [123 342]]\n",
      "Accuracy value 0.7853323147440795\n"
     ]
    }
   ],
   "source": [
    "#Build a logistic regression model for survival rates based on passenger class, sex, and age.\n",
    "titanicDataframe[\"sex\"] = titanicDataframe[\"sex\"].replace([\"female\", \"male\"], [0,1])\n",
    "titanicDataframe[\"AgeGroup\"] = titanicDataframe[\"AgeGroup\"].replace([\"kid\", \"Adolescent\", \"Youth\", \"Adult\", \"Old\"], [0,1,2,3,4])\n",
    "titanicDataframe = titanicDataframe.dropna(subset=[\"AgeGroup\"])\n",
    "\n",
    "#Calculate the regression\n",
    "calcRegression = LogisticRegression()\n",
    "xaxis = titanicDataframe[[\"pclass\", \"sex\", \"age\" ]]\n",
    "yaxis = titanicDataframe[\"survived\"]\n",
    "calcRegression = calcRegression.fit(xaxis,yaxis)\n",
    "calcRegression\n",
    "\n",
    "\n",
    "print(\"Intercept = \", calcRegression.intercept_)\n",
    "\n",
    "print(\"Correlation Coefficient = \",calcRegression.coef_)\n",
    "\n",
    "getAccuracy = calcRegression.score(xaxis, yaxis)\n",
    "print(\"Accuracy = \", getAccuracy)\n",
    "\n",
    "predictYaxis = calcRegression.predict(xaxis)\n",
    "\n",
    "print(\"Predict Value = \", predictYaxis)\n",
    "\n",
    "confusionmatrix = confusion_matrix(predictYaxis,yaxis)\n",
    "print(\"Confusion Matrix\", confusionmatrix)\n",
    "\n",
    "getAccuracy = (confusionmatrix[0,0] + confusionmatrix[1,1])/ confusionmatrix.sum()\n",
    "print(\"Accuracy value\", getAccuracy)"
   ]
  },
  {
   "cell_type": "code",
   "execution_count": 9,
   "id": "d9bd49e8",
   "metadata": {},
   "outputs": [
    {
     "name": "stdout",
     "output_type": "stream",
     "text": [
      "Optimization terminated successfully.\n",
      "         Current function value: 0.469029\n",
      "         Iterations 6\n",
      "                           Logit Regression Results                           \n",
      "==============================================================================\n",
      "Dep. Variable:               survived   No. Observations:                 1309\n",
      "Model:                          Logit   Df Residuals:                     1305\n",
      "Method:                           MLE   Df Model:                            3\n",
      "Date:                Tue, 02 Nov 2021   Pseudo R-squ.:                  0.2947\n",
      "Time:                        15:39:29   Log-Likelihood:                -613.96\n",
      "converged:                       True   LL-Null:                       -870.51\n",
      "Covariance Type:            nonrobust   LLR p-value:                6.892e-111\n",
      "==============================================================================\n",
      "                 coef    std err          z      P>|z|      [0.025      0.975]\n",
      "------------------------------------------------------------------------------\n",
      "const          4.3634      0.366     11.936      0.000       3.647       5.080\n",
      "pclass        -1.0653      0.096    -11.122      0.000      -1.253      -0.878\n",
      "sex           -2.4979      0.149    -16.793      0.000      -2.789      -2.206\n",
      "age           -0.0320      0.006     -5.294      0.000      -0.044      -0.020\n",
      "==============================================================================\n"
     ]
    }
   ],
   "source": [
    "\n",
    "xaxis = sm.add_constant(xaxis)\n",
    "model = sm.Logit(yaxis, xaxis).fit()\n",
    "print(model.summary())\n",
    "\n"
   ]
  }
 ],
 "metadata": {
  "kernelspec": {
   "display_name": "Python 3",
   "language": "python",
   "name": "python3"
  },
  "language_info": {
   "codemirror_mode": {
    "name": "ipython",
    "version": 3
   },
   "file_extension": ".py",
   "mimetype": "text/x-python",
   "name": "python",
   "nbconvert_exporter": "python",
   "pygments_lexer": "ipython3",
   "version": "3.8.8"
  }
 },
 "nbformat": 4,
 "nbformat_minor": 5
}
